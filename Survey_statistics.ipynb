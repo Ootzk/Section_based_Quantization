{
 "cells": [
  {
   "cell_type": "markdown",
   "id": "c6d9255b",
   "metadata": {},
   "source": [
    "# Survey_statistics\n",
    "\n",
    "Survey feature map's mean & std for each layer in model, for epoch in train-process."
   ]
  },
  {
   "cell_type": "code",
   "execution_count": 1,
   "id": "24a28446",
   "metadata": {},
   "outputs": [],
   "source": [
    "import torch\n",
    "from ignite.utils import manual_seed\n",
    "\n",
    "from analyze import *\n",
    "\n",
    "manual_seed(123)"
   ]
  },
  {
   "cell_type": "code",
   "execution_count": 2,
   "id": "75661b7d",
   "metadata": {},
   "outputs": [],
   "source": [
    "experiment_dir = "
   ]
  },
  {
   "cell_type": "code",
   "execution_count": null,
   "id": "1a9d363e",
   "metadata": {},
   "outputs": [],
   "source": [
    "class Surveyer:\n",
    "    def __init__(self, experiment_dir):\n",
    "        self.experiment_dir = experiment_dir\n",
    "        self.mean = {}\n",
    "        self.std = {}\n",
    "        \n",
    "        \n",
    "    def record_fmap_mean_and_std(self, model, epoch):\n",
    "        self.mean[epoch] = {}\n",
    "        self.std[epoch] = {}\n",
    "        for n, m in model.named_modules():\n",
    "            if isinstance(m, torch.nn.BatchNorm2d):\n",
    "                self.mean[epoch][n] = m.running_mean\n",
    "                self.std[epoch][n] = m.running_var\n",
    "        \n",
    "        \n",
    "    def survey(self):\n",
    "        for epoch in range(0, 90 + 1, 5):\n",
    "            model, exp_config = load_model(self.experiment_dir, epoch)\n",
    "            self.record_fmap_and_std(model, epoch)"
   ]
  },
  {
   "cell_type": "code",
   "execution_count": 4,
   "id": "2fc82999",
   "metadata": {
    "collapsed": true,
    "jupyter": {
     "outputs_hidden": true
    },
    "tags": []
   },
   "outputs": [
    {
     "name": "stdout",
     "output_type": "stream",
     "text": [
      "experiment configuration: \n",
      "{'dataloader': {'dataset': 'ImageNet',\n",
      "                'eval_loader_params': {'batch_size': 256,\n",
      "                                       'num_workers': 8,\n",
      "                                       'pin_memory': True,\n",
      "                                       'shuffle': False},\n",
      "                'train_loader_params': {'batch_size': 256,\n",
      "                                        'num_workers': 8,\n",
      "                                        'pin_memory': True,\n",
      "                                        'shuffle': True}},\n",
      " 'datetime': '20210511',\n",
      " 'experiment': {'ID': 21, 'title': 'EoQ - ResNet18+ImageNet'},\n",
      " 'gradient_clipping': None,\n",
      " 'loss_function': {'type': 'CrossEntropyLoss'},\n",
      " 'model': {'backbone': 'resnet18',\n",
      "           'variation': {'config': {'No SilhouetteFlow': {'activation': 8,\n",
      "                                                          'weight': 8},\n",
      "                                    'predictors': {'before layer1': {'editor': {'k': 5,\n",
      "                                                                                'method': 'topk_deviation_of_activation'},\n",
      "                                                                     'extractor': {'kernel_size': 3,\n",
      "                                                                                   'pooling_layer': 'max'},\n",
      "                                                                     'range': ['layer1',\n",
      "                                                                               'layer2',\n",
      "                                                                               'layer3',\n",
      "                                                                               'layer4'],\n",
      "                                                                     'sectionizer': {'policy': '2bit '\n",
      "                                                                                               '50%, '\n",
      "                                                                                               '3bit '\n",
      "                                                                                               '50%'},\n",
      "                                                                     'weight_scaling_per_output_channel': True}}},\n",
      "                         'type': 'Silhouette'}},\n",
      " 'optimizer': {'params': {'lr': 0.01, 'momentum': 0.9, 'weight_decay': 0.0001},\n",
      "               'type': 'SGD'},\n",
      " 'resume_from': None,\n",
      " 'scheduler': {'params': {'gamma': 0.1, 'milestones': [30, 60]},\n",
      "               'type': 'MultiStepLR'},\n",
      " 'train_constants': {'log_train_stats_every_iters': 100,\n",
      "                     'max_epochs': 90,\n",
      "                     'save_every_epochs': 5}}\n"
     ]
    },
    {
     "ename": "NameError",
     "evalue": "name 'resnet18_QAT' is not defined",
     "output_type": "error",
     "traceback": [
      "\u001b[1;31m---------------------------------------------------------------------------\u001b[0m",
      "\u001b[1;31mNameError\u001b[0m                                 Traceback (most recent call last)",
      "\u001b[1;32m<ipython-input-4-7fb359316591>\u001b[0m in \u001b[0;36m<module>\u001b[1;34m\u001b[0m\n\u001b[0;32m      1\u001b[0m \u001b[1;32mfor\u001b[0m \u001b[0mepoch\u001b[0m \u001b[1;32min\u001b[0m \u001b[0mrange\u001b[0m\u001b[1;33m(\u001b[0m\u001b[1;36m0\u001b[0m\u001b[1;33m,\u001b[0m \u001b[1;36m90\u001b[0m \u001b[1;33m+\u001b[0m \u001b[1;36m1\u001b[0m\u001b[1;33m,\u001b[0m \u001b[1;36m5\u001b[0m\u001b[1;33m)\u001b[0m\u001b[1;33m:\u001b[0m\u001b[1;33m\u001b[0m\u001b[1;33m\u001b[0m\u001b[0m\n\u001b[1;32m----> 2\u001b[1;33m     \u001b[0mload_model\u001b[0m\u001b[1;33m(\u001b[0m\u001b[0mexperiment_dir\u001b[0m\u001b[1;33m,\u001b[0m \u001b[0mepoch\u001b[0m\u001b[1;33m,\u001b[0m \u001b[0mverbose\u001b[0m\u001b[1;33m=\u001b[0m\u001b[1;32mTrue\u001b[0m\u001b[1;33m)\u001b[0m\u001b[1;33m\u001b[0m\u001b[1;33m\u001b[0m\u001b[0m\n\u001b[0m",
      "\u001b[1;32m~\\source\\repos\\Projects\\Section_based_Quantization\\analyze.py\u001b[0m in \u001b[0;36mload_model\u001b[1;34m(experiment_dir, checkpoint, verbose)\u001b[0m\n\u001b[0;32m    105\u001b[0m \u001b[1;33m\u001b[0m\u001b[0m\n\u001b[0;32m    106\u001b[0m     \u001b[1;32mtry\u001b[0m\u001b[1;33m:\u001b[0m\u001b[1;33m\u001b[0m\u001b[1;33m\u001b[0m\u001b[0m\n\u001b[1;32m--> 107\u001b[1;33m         \u001b[0marchived_arch\u001b[0m \u001b[1;33m=\u001b[0m \u001b[0mimportlib\u001b[0m\u001b[1;33m.\u001b[0m\u001b[0mimport_module\u001b[0m\u001b[1;33m(\u001b[0m\u001b[1;34mf'{experiment_dir.replace(\"/\", \".\")}.architectures'\u001b[0m\u001b[1;33m)\u001b[0m\u001b[1;33m\u001b[0m\u001b[1;33m\u001b[0m\u001b[0m\n\u001b[0m\u001b[0;32m    108\u001b[0m     \u001b[1;32mexcept\u001b[0m \u001b[0mModuleNotFoundError\u001b[0m\u001b[1;33m:\u001b[0m\u001b[1;33m\u001b[0m\u001b[1;33m\u001b[0m\u001b[0m\n\u001b[0;32m    109\u001b[0m         \u001b[1;32mif\u001b[0m \u001b[0mverbose\u001b[0m\u001b[1;33m:\u001b[0m\u001b[1;33m\u001b[0m\u001b[1;33m\u001b[0m\u001b[0m\n",
      "\u001b[1;32m~\\.conda\\envs\\PyTorch\\lib\\importlib\\__init__.py\u001b[0m in \u001b[0;36mimport_module\u001b[1;34m(name, package)\u001b[0m\n\u001b[0;32m    125\u001b[0m                 \u001b[1;32mbreak\u001b[0m\u001b[1;33m\u001b[0m\u001b[1;33m\u001b[0m\u001b[0m\n\u001b[0;32m    126\u001b[0m             \u001b[0mlevel\u001b[0m \u001b[1;33m+=\u001b[0m \u001b[1;36m1\u001b[0m\u001b[1;33m\u001b[0m\u001b[1;33m\u001b[0m\u001b[0m\n\u001b[1;32m--> 127\u001b[1;33m     \u001b[1;32mreturn\u001b[0m \u001b[0m_bootstrap\u001b[0m\u001b[1;33m.\u001b[0m\u001b[0m_gcd_import\u001b[0m\u001b[1;33m(\u001b[0m\u001b[0mname\u001b[0m\u001b[1;33m[\u001b[0m\u001b[0mlevel\u001b[0m\u001b[1;33m:\u001b[0m\u001b[1;33m]\u001b[0m\u001b[1;33m,\u001b[0m \u001b[0mpackage\u001b[0m\u001b[1;33m,\u001b[0m \u001b[0mlevel\u001b[0m\u001b[1;33m)\u001b[0m\u001b[1;33m\u001b[0m\u001b[1;33m\u001b[0m\u001b[0m\n\u001b[0m\u001b[0;32m    128\u001b[0m \u001b[1;33m\u001b[0m\u001b[0m\n\u001b[0;32m    129\u001b[0m \u001b[1;33m\u001b[0m\u001b[0m\n",
      "\u001b[1;32m~\\.conda\\envs\\PyTorch\\lib\\importlib\\_bootstrap.py\u001b[0m in \u001b[0;36m_gcd_import\u001b[1;34m(name, package, level)\u001b[0m\n",
      "\u001b[1;32m~\\.conda\\envs\\PyTorch\\lib\\importlib\\_bootstrap.py\u001b[0m in \u001b[0;36m_find_and_load\u001b[1;34m(name, import_)\u001b[0m\n",
      "\u001b[1;32m~\\.conda\\envs\\PyTorch\\lib\\importlib\\_bootstrap.py\u001b[0m in \u001b[0;36m_find_and_load_unlocked\u001b[1;34m(name, import_)\u001b[0m\n",
      "\u001b[1;32m~\\.conda\\envs\\PyTorch\\lib\\importlib\\_bootstrap.py\u001b[0m in \u001b[0;36m_load_unlocked\u001b[1;34m(spec)\u001b[0m\n",
      "\u001b[1;32m~\\.conda\\envs\\PyTorch\\lib\\importlib\\_bootstrap_external.py\u001b[0m in \u001b[0;36mexec_module\u001b[1;34m(self, module)\u001b[0m\n",
      "\u001b[1;32m~\\.conda\\envs\\PyTorch\\lib\\importlib\\_bootstrap.py\u001b[0m in \u001b[0;36m_call_with_frames_removed\u001b[1;34m(f, *args, **kwds)\u001b[0m\n",
      "\u001b[1;32m~\\source\\repos\\Projects\\Section_based_Quantization\\experiments\\EoQ - ResNet18+ImageNet\\21\\architectures\\__init__.py\u001b[0m in \u001b[0;36m<module>\u001b[1;34m\u001b[0m\n\u001b[1;32m----> 1\u001b[1;33m \u001b[1;32mfrom\u001b[0m \u001b[1;33m.\u001b[0m\u001b[0mtrain\u001b[0m \u001b[1;32mimport\u001b[0m \u001b[0mrun\u001b[0m\u001b[1;33m\u001b[0m\u001b[1;33m\u001b[0m\u001b[0m\n\u001b[0m\u001b[0;32m      2\u001b[0m \u001b[1;32mfrom\u001b[0m \u001b[1;33m.\u001b[0m\u001b[0mutils\u001b[0m \u001b[1;32mimport\u001b[0m \u001b[1;33m*\u001b[0m\u001b[1;33m\u001b[0m\u001b[1;33m\u001b[0m\u001b[0m\n\u001b[0;32m      3\u001b[0m \u001b[1;33m\u001b[0m\u001b[0m\n\u001b[0;32m      4\u001b[0m \u001b[1;32mfrom\u001b[0m \u001b[1;33m.\u001b[0m \u001b[1;32mimport\u001b[0m \u001b[0mDRQ\u001b[0m\u001b[1;33m\u001b[0m\u001b[1;33m\u001b[0m\u001b[0m\n\u001b[0;32m      5\u001b[0m \u001b[1;32mfrom\u001b[0m \u001b[1;33m.\u001b[0m \u001b[1;32mimport\u001b[0m \u001b[0mQAT\u001b[0m\u001b[1;33m\u001b[0m\u001b[1;33m\u001b[0m\u001b[0m\n",
      "\u001b[1;32m~\\source\\repos\\Projects\\Section_based_Quantization\\experiments\\EoQ - ResNet18+ImageNet\\21\\architectures\\train.py\u001b[0m in \u001b[0;36m<module>\u001b[1;34m\u001b[0m\n\u001b[0;32m     18\u001b[0m \u001b[1;32mfrom\u001b[0m \u001b[0mignite\u001b[0m\u001b[1;33m.\u001b[0m\u001b[0mutils\u001b[0m \u001b[1;32mimport\u001b[0m \u001b[0mmanual_seed\u001b[0m\u001b[1;33m\u001b[0m\u001b[1;33m\u001b[0m\u001b[0m\n\u001b[0;32m     19\u001b[0m \u001b[1;33m\u001b[0m\u001b[0m\n\u001b[1;32m---> 20\u001b[1;33m \u001b[1;32mfrom\u001b[0m \u001b[1;33m.\u001b[0m\u001b[0mutils\u001b[0m \u001b[1;32mimport\u001b[0m \u001b[0mget_train_eval_datasets\u001b[0m\u001b[1;33m,\u001b[0m \u001b[0mget_model_skeleton\u001b[0m\u001b[1;33m\u001b[0m\u001b[1;33m\u001b[0m\u001b[0m\n\u001b[0m\u001b[0;32m     21\u001b[0m \u001b[1;33m\u001b[0m\u001b[0m\n\u001b[0;32m     22\u001b[0m \u001b[1;31m# Deterministic experiment ####################################################################################\u001b[0m\u001b[1;33m\u001b[0m\u001b[1;33m\u001b[0m\u001b[1;33m\u001b[0m\u001b[0m\n",
      "\u001b[1;32m~\\source\\repos\\Projects\\Section_based_Quantization\\experiments\\EoQ - ResNet18+ImageNet\\21\\architectures\\utils.py\u001b[0m in \u001b[0;36m<module>\u001b[1;34m\u001b[0m\n\u001b[0;32m     23\u001b[0m \u001b[1;33m\u001b[0m\u001b[0m\n\u001b[0;32m     24\u001b[0m creators = {\n\u001b[1;32m---> 25\u001b[1;33m     \u001b[1;34m'resnet18_QAT'\u001b[0m\u001b[1;33m:\u001b[0m \u001b[0mresnet18_QAT\u001b[0m\u001b[1;33m,\u001b[0m\u001b[1;33m\u001b[0m\u001b[1;33m\u001b[0m\u001b[0m\n\u001b[0m\u001b[0;32m     26\u001b[0m     \u001b[1;34m'resnet34_QAT'\u001b[0m\u001b[1;33m:\u001b[0m \u001b[0mresnet34_QAT\u001b[0m\u001b[1;33m,\u001b[0m\u001b[1;33m\u001b[0m\u001b[1;33m\u001b[0m\u001b[0m\n\u001b[0;32m     27\u001b[0m     \u001b[1;34m'resnet50_QAT'\u001b[0m\u001b[1;33m:\u001b[0m \u001b[0mresnet50_QAT\u001b[0m\u001b[1;33m,\u001b[0m\u001b[1;33m\u001b[0m\u001b[1;33m\u001b[0m\u001b[0m\n",
      "\u001b[1;31mNameError\u001b[0m: name 'resnet18_QAT' is not defined"
     ]
    }
   ],
   "source": [
    "sv = Surveyer('EoQ - ResNet18+ImageNet/21')\n",
    "sv.survey()\n",
    "\n",
    "print(sv.mean)\n",
    "print(sv.std)"
   ]
  }
 ],
 "metadata": {
  "kernelspec": {
   "display_name": "PyTorch",
   "language": "python",
   "name": "pytorch"
  },
  "language_info": {
   "codemirror_mode": {
    "name": "ipython",
    "version": 3
   },
   "file_extension": ".py",
   "mimetype": "text/x-python",
   "name": "python",
   "nbconvert_exporter": "python",
   "pygments_lexer": "ipython3",
   "version": "3.9.4"
  }
 },
 "nbformat": 4,
 "nbformat_minor": 5
}
